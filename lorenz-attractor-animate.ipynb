{
 "cells": [
  {
   "cell_type": "markdown",
   "metadata": {},
   "source": [
    "# Animate the Lorenz Attractor"
   ]
  },
  {
   "cell_type": "code",
   "execution_count": 43,
   "metadata": {},
   "outputs": [],
   "source": [
    "%matplotlib inline\n",
    "import numpy as np, matplotlib.pyplot as plt, glob, os\n",
    "import IPython.display as IPdisplay, matplotlib.font_manager as fm\n",
    "from scipy.integrate import odeint\n",
    "from mpl_toolkits.mplot3d.axes3d import Axes3D\n",
    "from PIL import Image"
   ]
  },
  {
   "cell_type": "code",
   "execution_count": 44,
   "metadata": {},
   "outputs": [],
   "source": [
    "# define the fonts to use for plots\n",
    "title_font = fm.FontProperties(style='normal', size=20, weight='normal', stretch='normal')"
   ]
  },
  {
   "cell_type": "code",
   "execution_count": 45,
   "metadata": {},
   "outputs": [],
   "source": [
    "save_folder1 = 'images/lorenz-animate1'\n",
    "save_folder2 = 'images/lorenz-animate2'\n",
    "save_folder3 = 'images/lorenz-animate3'\n",
    "\n",
    "if not os.path.exists(save_folder1):\n",
    "    os.makedirs(save_folder1)\n",
    "if not os.path.exists(save_folder2):\n",
    "    os.makedirs(save_folder2)\n",
    "if not os.path.exists(save_folder3):\n",
    "    os.makedirs(save_folder3)"
   ]
  },
  {
   "cell_type": "code",
   "execution_count": 46,
   "metadata": {},
   "outputs": [],
   "source": [
    "# define the initial system state (aka x, y, z positions in space)\n",
    "initial_state = [0.1, 0, 0]\n",
    "\n",
    "# define the system parameters sigma, rho, and beta\n",
    "sigma1 = 10.\n",
    "rho1   = 28.\n",
    "beta1  = 8./3.\n",
    "\n",
    "# define the system parameters sigma, rho, and beta\n",
    "sigma2 = 5.\n",
    "rho2  = 14.\n",
    "beta2  = 4.\n",
    "\n",
    "# define the system parameters sigma, rho, and beta\n",
    "sigma3 = 20.\n",
    "rho3   = 56.\n",
    "beta3  = 16./6.\n",
    "\n",
    "# define the time points to solve for, evenly spaced between the start and end times\n",
    "start_time = 1\n",
    "end_time = 60\n",
    "interval = 100\n",
    "time_points = np.linspace(start_time, end_time, end_time * interval)"
   ]
  },
  {
   "cell_type": "markdown",
   "metadata": {},
   "source": [
    "The Lorenz System:\n",
    "$$\n",
    "\\frac{{dx}}{{dt}} = \\sigma(y - x) \\\\\n",
    "\\frac{{dy}}{{dt}} = x(\\rho - z) - y \\\\\n",
    "\\frac{{dz}}{{dt}} = xy - \\beta z \\\\\n",
    "$$\n",
    "\n",
    "where x is proportional to the rate of convection, y to the horizontal temperature variation, and z to the vertical temperature variation. The constants σ, ρ, and β are system parameters proportional to the Prandtl number, Rayleigh number, and certain physical dimensions of the layer itself."
   ]
  },
  {
   "cell_type": "code",
   "execution_count": 47,
   "metadata": {},
   "outputs": [],
   "source": [
    "# define the lorenz system\n",
    "def lorenz_system1(current_state, t):\n",
    "    x, y, z = current_state\n",
    "    dx_dt = sigma1 * (y - x)\n",
    "    dy_dt = x * (rho1 - z) - y\n",
    "    dz_dt = x * y - beta1 * z\n",
    "    return [dx_dt, dy_dt, dz_dt]\\\n",
    "\n",
    "# define the lorenz system\n",
    "def lorenz_system2(current_state, t):\n",
    "    x, y, z = current_state\n",
    "    dx_dt = sigma2 * (y - x)\n",
    "    dy_dt = x * (rho2 - z) - y\n",
    "    dz_dt = x * y - beta2 * z\n",
    "    return [dx_dt, dy_dt, dz_dt]\n",
    "\n",
    "# define the lorenz system\n",
    "def lorenz_system3(current_state, t):\n",
    "    x, y, z = current_state\n",
    "    dx_dt = sigma3 * (y - x)\n",
    "    dy_dt = x * (rho3 - z) - y\n",
    "    dz_dt = x * y - beta3 * z\n",
    "    return [dx_dt, dy_dt, dz_dt]"
   ]
  },
  {
   "cell_type": "code",
   "execution_count": 48,
   "metadata": {},
   "outputs": [],
   "source": [
    "# plot the system in 3 dimensions\n",
    "def plot_lorenz1(xyz1, n, save_folder, number=1):\n",
    "    fig1 = plt.figure(figsize=(12, 9))\n",
    "    ax1 = fig1.add_subplot(projection = '3d')\n",
    "    \n",
    "    ax1.xaxis.set_pane_color((1, 1, 1, 1))\n",
    "    ax1.yaxis.set_pane_color((1, 1, 1, 1))\n",
    "    ax1.zaxis.set_pane_color((1, 1, 1, 1))\n",
    "    \n",
    "    x1 = xyz1[:, 0]\n",
    "    y1 = xyz1[:, 1]\n",
    "    z1 = xyz1[:, 2]\n",
    "    \n",
    "    ax1.plot(x1, y1, z1, color='g', alpha=0.7, linewidth=0.7)\n",
    "    ax1.set_xlim((-30, 30))\n",
    "    ax1.set_ylim((-30, 30))\n",
    "    ax1.set_zlim((0, 50))\n",
    "    ax1.set_title(f'Lorenz system attractor {number}', fontproperties=title_font)\n",
    "    \n",
    "    ## save png of the plot\n",
    "    plt.savefig('{}/{:03d}1.png'.format(save_folder, n), dpi=60, bbox_inches='tight', pad_inches=0.1)\n",
    "    plt.close()\n",
    "    \n",
    "# plot the system in 3 dimensions\n",
    "def plot_lorenz2(xyz2, n, save_folder, number=2):\n",
    "    fig2 = plt.figure(figsize=(12, 9))\n",
    "    ax2 = fig2.add_subplot(projection = '3d')\n",
    "    \n",
    "    ax2.xaxis.set_pane_color((1, 1, 1, 1))\n",
    "    ax2.yaxis.set_pane_color((1, 1, 1, 1))\n",
    "    ax2.zaxis.set_pane_color((1, 1, 1, 1))\n",
    "    \n",
    "    x2 = xyz2[:, 0]\n",
    "    y2 = xyz2[:, 1]\n",
    "    z2 = xyz2[:, 2]\n",
    "    \n",
    "    ax2.plot(x2, y2, z2, color='g', alpha=0.7, linewidth=0.7)\n",
    "    ax2.set_xlim((-30, 30))\n",
    "    ax2.set_ylim((-30, 30))\n",
    "    ax2.set_zlim((0, 50))\n",
    "    ax2.set_title(f'Lorenz system attractor {number}', fontproperties=title_font)\n",
    "    \n",
    "    ## save png of the plot\n",
    "    plt.savefig('{}/{:03d}2.png'.format(save_folder, n), dpi=60, bbox_inches='tight', pad_inches=0.1)\n",
    "    plt.close()\n",
    "\n",
    "# plot the system in 3 dimensions\n",
    "def plot_lorenz3(xyz3, n, save_folder, number=3):\n",
    "    fig3 = plt.figure(figsize=(12, 9))\n",
    "    ax3 = fig3.add_subplot(projection = '3d')\n",
    "    \n",
    "    ax3.xaxis.set_pane_color((1, 1, 1, 1))\n",
    "    ax3.yaxis.set_pane_color((1, 1, 1, 1))\n",
    "    ax3.zaxis.set_pane_color((1, 1, 1, 1))\n",
    "    \n",
    "    x3 = xyz3[:, 0]\n",
    "    y3 = xyz3[:, 1]\n",
    "    z3 = xyz3[:, 2]\n",
    "    \n",
    "    ax3.plot(x3, y3, z3, color='g', alpha=0.7, linewidth=0.7)\n",
    "    ax3.set_xlim((-30, 30))\n",
    "    ax3.set_ylim((-30, 30))\n",
    "    ax3.set_zlim((0, 50))\n",
    "    ax3.set_title(f'Lorenz system attractor {number}', fontproperties=title_font)\n",
    "    \n",
    "    ## save png of the plot\n",
    "    plt.savefig('{}/{:03d}3.png'.format(save_folder, n), dpi=60, bbox_inches='tight', pad_inches=0.1)\n",
    "    plt.close()"
   ]
  },
  {
   "cell_type": "code",
   "execution_count": 49,
   "metadata": {},
   "outputs": [],
   "source": [
    "# return a list in iteratively larger chunks\n",
    "def get_chunks(full_list, size):\n",
    "    size = max(1, size)\n",
    "    chunks = [full_list[0:i] for i in range(1, len(full_list) + 1, size)]\n",
    "    return chunks"
   ]
  },
  {
   "cell_type": "code",
   "execution_count": 50,
   "metadata": {},
   "outputs": [],
   "source": [
    "# get incrementally larger chunks of the time points, to reveal the attractor one frame at a time\n",
    "chunks = get_chunks(time_points, size=20)"
   ]
  },
  {
   "cell_type": "code",
   "execution_count": 51,
   "metadata": {},
   "outputs": [],
   "source": [
    "# get the points to plot, one chunk of time steps at a time, by integrating the system of equations\n",
    "points1 = [odeint(lorenz_system1, initial_state, chunk) for chunk in chunks]\n",
    "# plot each set of points, one at a time, saving each plot\n",
    "for n, point in enumerate(points1):\n",
    "    plot_lorenz1(point, n, save_folder1)\n",
    "#----------------------------------------\n",
    "# get the points to plot, one chunk of time steps at a time, by integrating the system of equations\n",
    "points2 = [odeint(lorenz_system2, initial_state, chunk) for chunk in chunks]\n",
    "# plot each set of points, one at a time, saving each plot\n",
    "for n, point in enumerate(points2):\n",
    "    plot_lorenz2(point, n, save_folder2)\n",
    "#----------------------------------------\n",
    "# get the points to plot, one chunk of time steps at a time, by integrating the system of equations\n",
    "points3 = [odeint(lorenz_system3, initial_state, chunk) for chunk in chunks]\n",
    "# plot each set of points, one at a time, saving each plot\n",
    "for n, point in enumerate(points3):\n",
    "    plot_lorenz3(point, n, save_folder3)"
   ]
  },
  {
   "cell_type": "markdown",
   "metadata": {},
   "source": [
    "## Animate it\n",
    "Here we will create an animated gif of all the plots then display it inline!"
   ]
  },
  {
   "cell_type": "code",
   "execution_count": 52,
   "metadata": {},
   "outputs": [],
   "source": [
    "# create a tuple of display durations, one for each frame\n",
    "first_last = 100 #show the first and last frames for 100 ms\n",
    "standard_duration = 5 #show all other frames for 5 ms\n",
    "\n",
    "def durations(points): \n",
    "    return tuple([first_last] + [standard_duration] * (len(points) - 2) + [first_last])\n",
    "\n",
    "durations1 = durations(points1)\n",
    "durations2 = durations(points2)\n",
    "durations3 = durations(points3)"
   ]
  },
  {
   "cell_type": "code",
   "execution_count": 53,
   "metadata": {},
   "outputs": [],
   "source": [
    "# load all the static images into a list\n",
    "images1 = [Image.open(image) for image in glob.glob('{}/*.png'.format(save_folder1))]\n",
    "images2 = [Image.open(image) for image in glob.glob('{}/*.png'.format(save_folder2))]\n",
    "images3 = [Image.open(image) for image in glob.glob('{}/*.png'.format(save_folder3))]\n",
    "\n",
    "gif_filepath1 = 'images/animated-lorenz-attractor1.gif'\n",
    "gif_filepath2 = 'images/animated-lorenz-attractor2.gif'\n",
    "gif_filepath3 = 'images/animated-lorenz-attractor3.gif'"
   ]
  },
  {
   "cell_type": "code",
   "execution_count": 54,
   "metadata": {},
   "outputs": [
    {
     "ename": "TypeError",
     "evalue": "unsupported operand type(s) for /: 'tuple' and 'int'",
     "output_type": "error",
     "traceback": [
      "\u001b[1;31m---------------------------------------------------------------------------\u001b[0m",
      "\u001b[1;31mTypeError\u001b[0m                                 Traceback (most recent call last)",
      "Cell \u001b[1;32mIn[54], line 5\u001b[0m\n\u001b[0;32m      3\u001b[0m gif1\u001b[39m.\u001b[39minfo[\u001b[39m'\u001b[39m\u001b[39mduration\u001b[39m\u001b[39m'\u001b[39m] \u001b[39m=\u001b[39m durations1 \u001b[39m#ms per frame\u001b[39;00m\n\u001b[0;32m      4\u001b[0m gif1\u001b[39m.\u001b[39minfo[\u001b[39m'\u001b[39m\u001b[39mloop\u001b[39m\u001b[39m'\u001b[39m] \u001b[39m=\u001b[39m \u001b[39m0\u001b[39m \u001b[39m#how many times to loop (0=infinite)\u001b[39;00m\n\u001b[1;32m----> 5\u001b[0m gif1\u001b[39m.\u001b[39msave(fp\u001b[39m=\u001b[39mgif_filepath1, \u001b[39mformat\u001b[39m\u001b[39m=\u001b[39m\u001b[39m'\u001b[39m\u001b[39mgif\u001b[39m\u001b[39m'\u001b[39m, save_all\u001b[39m=\u001b[39m\u001b[39mTrue\u001b[39;00m, append_images\u001b[39m=\u001b[39mimages1[\u001b[39m1\u001b[39m:])\n\u001b[0;32m      6\u001b[0m \u001b[39m#----------------------------------------\u001b[39;00m\n\u001b[0;32m      7\u001b[0m \u001b[39m# save as an animated gif\u001b[39;00m\n\u001b[0;32m      8\u001b[0m gif2 \u001b[39m=\u001b[39m images2[\u001b[39m0\u001b[39m]\n",
      "File \u001b[1;32mc:\\Users\\kibal\\anaconda3\\Lib\\site-packages\\PIL\\Image.py:2431\u001b[0m, in \u001b[0;36mImage.save\u001b[1;34m(self, fp, format, **params)\u001b[0m\n\u001b[0;32m   2428\u001b[0m         fp \u001b[39m=\u001b[39m builtins\u001b[39m.\u001b[39mopen(filename, \u001b[39m\"\u001b[39m\u001b[39mw+b\u001b[39m\u001b[39m\"\u001b[39m)\n\u001b[0;32m   2430\u001b[0m \u001b[39mtry\u001b[39;00m:\n\u001b[1;32m-> 2431\u001b[0m     save_handler(\u001b[39mself\u001b[39m, fp, filename)\n\u001b[0;32m   2432\u001b[0m \u001b[39mexcept\u001b[39;00m \u001b[39mException\u001b[39;00m:\n\u001b[0;32m   2433\u001b[0m     \u001b[39mif\u001b[39;00m open_fp:\n",
      "File \u001b[1;32mc:\\Users\\kibal\\anaconda3\\Lib\\site-packages\\PIL\\GifImagePlugin.py:658\u001b[0m, in \u001b[0;36m_save_all\u001b[1;34m(im, fp, filename)\u001b[0m\n\u001b[0;32m    657\u001b[0m \u001b[39mdef\u001b[39;00m \u001b[39m_save_all\u001b[39m(im, fp, filename):\n\u001b[1;32m--> 658\u001b[0m     _save(im, fp, filename, save_all\u001b[39m=\u001b[39m\u001b[39mTrue\u001b[39;00m)\n",
      "File \u001b[1;32mc:\\Users\\kibal\\anaconda3\\Lib\\site-packages\\PIL\\GifImagePlugin.py:669\u001b[0m, in \u001b[0;36m_save\u001b[1;34m(im, fp, filename, save_all)\u001b[0m\n\u001b[0;32m    666\u001b[0m     palette \u001b[39m=\u001b[39m \u001b[39mNone\u001b[39;00m\n\u001b[0;32m    667\u001b[0m     im\u001b[39m.\u001b[39mencoderinfo[\u001b[39m\"\u001b[39m\u001b[39moptimize\u001b[39m\u001b[39m\"\u001b[39m] \u001b[39m=\u001b[39m im\u001b[39m.\u001b[39mencoderinfo\u001b[39m.\u001b[39mget(\u001b[39m\"\u001b[39m\u001b[39moptimize\u001b[39m\u001b[39m\"\u001b[39m, \u001b[39mTrue\u001b[39;00m)\n\u001b[1;32m--> 669\u001b[0m \u001b[39mif\u001b[39;00m \u001b[39mnot\u001b[39;00m save_all \u001b[39mor\u001b[39;00m \u001b[39mnot\u001b[39;00m _write_multiple_frames(im, fp, palette):\n\u001b[0;32m    670\u001b[0m     _write_single_frame(im, fp, palette)\n\u001b[0;32m    672\u001b[0m fp\u001b[39m.\u001b[39mwrite(\u001b[39mb\u001b[39m\u001b[39m\"\u001b[39m\u001b[39m;\u001b[39m\u001b[39m\"\u001b[39m)  \u001b[39m# end of file\u001b[39;00m\n",
      "File \u001b[1;32mc:\\Users\\kibal\\anaconda3\\Lib\\site-packages\\PIL\\GifImagePlugin.py:648\u001b[0m, in \u001b[0;36m_write_multiple_frames\u001b[1;34m(im, fp, palette)\u001b[0m\n\u001b[0;32m    646\u001b[0m             im_frame \u001b[39m=\u001b[39m im_frame\u001b[39m.\u001b[39mcrop(frame_data[\u001b[39m\"\u001b[39m\u001b[39mbbox\u001b[39m\u001b[39m\"\u001b[39m])\n\u001b[0;32m    647\u001b[0m             offset \u001b[39m=\u001b[39m frame_data[\u001b[39m\"\u001b[39m\u001b[39mbbox\u001b[39m\u001b[39m\"\u001b[39m][:\u001b[39m2\u001b[39m]\n\u001b[1;32m--> 648\u001b[0m         _write_frame_data(fp, im_frame, offset, frame_data[\u001b[39m\"\u001b[39m\u001b[39mencoderinfo\u001b[39m\u001b[39m\"\u001b[39m])\n\u001b[0;32m    649\u001b[0m     \u001b[39mreturn\u001b[39;00m \u001b[39mTrue\u001b[39;00m\n\u001b[0;32m    650\u001b[0m \u001b[39melif\u001b[39;00m \u001b[39m\"\u001b[39m\u001b[39mduration\u001b[39m\u001b[39m\"\u001b[39m \u001b[39min\u001b[39;00m im\u001b[39m.\u001b[39mencoderinfo \u001b[39mand\u001b[39;00m \u001b[39misinstance\u001b[39m(\n\u001b[0;32m    651\u001b[0m     im\u001b[39m.\u001b[39mencoderinfo[\u001b[39m\"\u001b[39m\u001b[39mduration\u001b[39m\u001b[39m\"\u001b[39m], (\u001b[39mlist\u001b[39m, \u001b[39mtuple\u001b[39m)\n\u001b[0;32m    652\u001b[0m ):\n\u001b[0;32m    653\u001b[0m     \u001b[39m# Since multiple frames will not be written, add together the frame durations\u001b[39;00m\n",
      "File \u001b[1;32mc:\\Users\\kibal\\anaconda3\\Lib\\site-packages\\PIL\\GifImagePlugin.py:981\u001b[0m, in \u001b[0;36m_write_frame_data\u001b[1;34m(fp, im_frame, offset, params)\u001b[0m\n\u001b[0;32m    978\u001b[0m im_frame\u001b[39m.\u001b[39mencoderinfo \u001b[39m=\u001b[39m params\n\u001b[0;32m    980\u001b[0m \u001b[39m# local image header\u001b[39;00m\n\u001b[1;32m--> 981\u001b[0m _write_local_header(fp, im_frame, offset, \u001b[39m0\u001b[39m)\n\u001b[0;32m    983\u001b[0m ImageFile\u001b[39m.\u001b[39m_save(\n\u001b[0;32m    984\u001b[0m     im_frame, fp, [(\u001b[39m\"\u001b[39m\u001b[39mgif\u001b[39m\u001b[39m\"\u001b[39m, (\u001b[39m0\u001b[39m, \u001b[39m0\u001b[39m) \u001b[39m+\u001b[39m im_frame\u001b[39m.\u001b[39msize, \u001b[39m0\u001b[39m, RAWMODE[im_frame\u001b[39m.\u001b[39mmode])]\n\u001b[0;32m    985\u001b[0m )\n\u001b[0;32m    987\u001b[0m fp\u001b[39m.\u001b[39mwrite(\u001b[39mb\u001b[39m\u001b[39m\"\u001b[39m\u001b[39m\\0\u001b[39;00m\u001b[39m\"\u001b[39m)  \u001b[39m# end of image data\u001b[39;00m\n",
      "File \u001b[1;32mc:\\Users\\kibal\\anaconda3\\Lib\\site-packages\\PIL\\GifImagePlugin.py:711\u001b[0m, in \u001b[0;36m_write_local_header\u001b[1;34m(fp, im, offset, flags)\u001b[0m\n\u001b[0;32m    708\u001b[0m             transparent_color_exists \u001b[39m=\u001b[39m \u001b[39mFalse\u001b[39;00m\n\u001b[0;32m    710\u001b[0m \u001b[39mif\u001b[39;00m \u001b[39m\"\u001b[39m\u001b[39mduration\u001b[39m\u001b[39m\"\u001b[39m \u001b[39min\u001b[39;00m im\u001b[39m.\u001b[39mencoderinfo:\n\u001b[1;32m--> 711\u001b[0m     duration \u001b[39m=\u001b[39m \u001b[39mint\u001b[39m(im\u001b[39m.\u001b[39mencoderinfo[\u001b[39m\"\u001b[39m\u001b[39mduration\u001b[39m\u001b[39m\"\u001b[39m] \u001b[39m/\u001b[39m \u001b[39m10\u001b[39m)\n\u001b[0;32m    712\u001b[0m \u001b[39melse\u001b[39;00m:\n\u001b[0;32m    713\u001b[0m     duration \u001b[39m=\u001b[39m \u001b[39m0\u001b[39m\n",
      "\u001b[1;31mTypeError\u001b[0m: unsupported operand type(s) for /: 'tuple' and 'int'"
     ]
    }
   ],
   "source": [
    "# save as an animated gif\n",
    "gif1 = images1[0]\n",
    "gif1.info['duration'] = durations1 #ms per frame\n",
    "gif1.info['loop'] = 0 #how many times to loop (0=infinite)\n",
    "gif1.save(fp=gif_filepath1, format='gif', save_all=True, append_images=images1[1:])\n",
    "#----------------------------------------\n",
    "# save as an animated gif\n",
    "gif2 = images2[0]\n",
    "gif2.info['duration'] = durations2 #ms per frame\n",
    "gif2.info['loop'] = 0 #how many times to loop (0=infinite)\n",
    "gif2.save(fp=gif_filepath2, format='gif', save_all=True, append_images=images2[1:])\n",
    "#----------------------------------------\n",
    "# save as an animated gif\n",
    "gif3 = images3[0]\n",
    "gif3.info['duration'] = durations3 #ms per frame\n",
    "gif3.info['loop'] = 0 #how many times to loop (0=infinite)\n",
    "gif3.save(fp=gif_filepath3, format='gif', save_all=True, append_images=images3[1:])"
   ]
  },
  {
   "cell_type": "code",
   "execution_count": null,
   "metadata": {},
   "outputs": [],
   "source": [
    "# verify that the number of frames in the gif equals the number of image files and durations\n",
    "Image.open(gif_filepath1).n_frames == len(images1) == len(durations1)\n",
    "Image.open(gif_filepath2).n_frames == len(images2) == len(durations2)\n",
    "Image.open(gif_filepath3).n_frames == len(images3) == len(durations3)"
   ]
  },
  {
   "cell_type": "code",
   "execution_count": null,
   "metadata": {},
   "outputs": [],
   "source": [
    "IPdisplay.Image(url=gif_filepath1)"
   ]
  },
  {
   "cell_type": "code",
   "execution_count": null,
   "metadata": {},
   "outputs": [],
   "source": [
    "IPdisplay.Image(url=gif_filepath2)"
   ]
  },
  {
   "cell_type": "code",
   "execution_count": null,
   "metadata": {},
   "outputs": [],
   "source": [
    "IPdisplay.Image(url=gif_filepath3)"
   ]
  }
 ],
 "metadata": {
  "kernelspec": {
   "display_name": "base",
   "language": "python",
   "name": "python3"
  },
  "language_info": {
   "codemirror_mode": {
    "name": "ipython",
    "version": 3
   },
   "file_extension": ".py",
   "mimetype": "text/x-python",
   "name": "python",
   "nbconvert_exporter": "python",
   "pygments_lexer": "ipython3",
   "version": "3.11.4"
  },
  "orig_nbformat": 4
 },
 "nbformat": 4,
 "nbformat_minor": 2
}
