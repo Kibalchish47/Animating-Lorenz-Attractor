{
 "cells": [
  {
   "cell_type": "markdown",
   "metadata": {},
   "source": [
    "# Animate the Lorenz Attractor"
   ]
  },
  {
   "cell_type": "code",
   "execution_count": 31,
   "metadata": {},
   "outputs": [],
   "source": [
    "%matplotlib inline\n",
    "import numpy as np, matplotlib.pyplot as plt, glob, os\n",
    "import IPython.display as IPdisplay, matplotlib.font_manager as fm\n",
    "from scipy.integrate import odeint\n",
    "from mpl_toolkits.mplot3d.axes3d import Axes3D\n",
    "from PIL import Image"
   ]
  },
  {
   "cell_type": "code",
   "execution_count": 32,
   "metadata": {},
   "outputs": [],
   "source": [
    "# define the fonts to use for plots\n",
    "title_font = fm.FontProperties(style='normal', size=20, weight='normal', stretch='normal')"
   ]
  },
  {
   "cell_type": "code",
   "execution_count": 33,
   "metadata": {},
   "outputs": [],
   "source": [
    "save_folder1 = 'images/lorenz-animate1'\n",
    "save_folder2 = 'images/lorenz-animate2'\n",
    "save_folder3 = 'images/lorenz-animate3'\n",
    "\n",
    "if not os.path.exists(save_folder1, save_folder2, save_folder3):\n",
    "    os.makedirs(save_folder1)\n",
    "    os.makedirs(save_folder2)\n",
    "    os.makedirs(save_folder3)"
   ]
  },
  {
   "cell_type": "code",
   "execution_count": 34,
   "metadata": {},
   "outputs": [],
   "source": [
    "# define the initial system state (aka x, y, z positions in space)\n",
    "initial_state = [0.1, 0, 0]\n",
    "\n",
    "# define the system parameters sigma, rho, and beta\n",
    "sigma1 = 10.\n",
    "rho1   = 28.\n",
    "beta1  = 8./3.\n",
    "\n",
    "# define the system parameters sigma, rho, and beta\n",
    "sigma2 = 5.\n",
    "rho2  = 14.\n",
    "beta2  = 4.\n",
    "\n",
    "# define the system parameters sigma, rho, and beta\n",
    "sigma3 = 20.\n",
    "rho3   = 56.\n",
    "beta3  = 16./6.\n",
    "\n",
    "# define the time points to solve for, evenly spaced between the start and end times\n",
    "start_time = 1\n",
    "end_time = 60\n",
    "interval = 100\n",
    "time_points = np.linspace(start_time, end_time, end_time * interval)"
   ]
  },
  {
   "cell_type": "markdown",
   "metadata": {},
   "source": [
    "The Lorenz System:\n",
    "$$\n",
    "\\frac{{dx}}{{dt}} = \\sigma(y - x) \\\\\n",
    "\\frac{{dy}}{{dt}} = x(\\rho - z) - y \\\\\n",
    "\\frac{{dz}}{{dt}} = xy - \\beta z \\\\\n",
    "$$\n",
    "\n",
    "where x is proportional to the rate of convection, y to the horizontal temperature variation, and z to the vertical temperature variation. The constants σ, ρ, and β are system parameters proportional to the Prandtl number, Rayleigh number, and certain physical dimensions of the layer itself."
   ]
  },
  {
   "cell_type": "code",
   "execution_count": 35,
   "metadata": {},
   "outputs": [],
   "source": [
    "# define the lorenz system\n",
    "def lorenz_system1(current_state, t):\n",
    "    x, y, z = current_state\n",
    "    dx_dt = sigma1 * (y - x)\n",
    "    dy_dt = x * (rho1 - z) - y\n",
    "    dz_dt = x * y - beta1 * z\n",
    "    return [dx_dt, dy_dt, dz_dt]\\\n",
    "\n",
    "# define the lorenz system\n",
    "def lorenz_system2(current_state, t):\n",
    "    x, y, z = current_state\n",
    "    dx_dt = sigma2 * (y - x)\n",
    "    dy_dt = x * (rho2 - z) - y\n",
    "    dz_dt = x * y - beta2 * z\n",
    "    return [dx_dt, dy_dt, dz_dt]\n",
    "\n",
    "# define the lorenz system\n",
    "def lorenz_system3(current_state, t):\n",
    "    x, y, z = current_state\n",
    "    dx_dt = sigma3 * (y - x)\n",
    "    dy_dt = x * (rho3 - z) - y\n",
    "    dz_dt = x * y - beta3 * z\n",
    "    return [dx_dt, dy_dt, dz_dt]"
   ]
  },
  {
   "cell_type": "code",
   "execution_count": 36,
   "metadata": {},
   "outputs": [],
   "source": [
    "# plot the system in 3 dimensions\n",
    "def plot_lorenz(xyz, n, save_folder, number=1):\n",
    "    fig = plt.figure(figsize=(12, 9))\n",
    "    ax = fig.add_subplot(projection = '3d')\n",
    "    \n",
    "    ax.xaxis.set_pane_color((1, 1, 1, 1))\n",
    "    ax.yaxis.set_pane_color((1, 1, 1, 1))\n",
    "    ax.zaxis.set_pane_color((1, 1, 1, 1))\n",
    "    \n",
    "    x = xyz[:, 0]\n",
    "    y = xyz[:, 1]\n",
    "    z = xyz[:, 2]\n",
    "    \n",
    "    ax.plot(x, y, z, color='g', alpha=0.7, linewidth=0.7)\n",
    "    ax.set_xlim((-30, 30))\n",
    "    ax.set_ylim((-30, 30))\n",
    "    ax.set_zlim((0, 50))\n",
    "    ax.set_title(f'Lorenz system attractor {number}', fontproperties=title_font)\n",
    "    \n",
    "    ## save png of the plot\n",
    "    plt.savefig('{}/{:03d}.png'.format(save_folder, n), dpi=60, bbox_inches='tight', pad_inches=0.1)\n",
    "    plt.close()"
   ]
  },
  {
   "cell_type": "code",
   "execution_count": 37,
   "metadata": {},
   "outputs": [],
   "source": [
    "# return a list in iteratively larger chunks\n",
    "def get_chunks(full_list, size):\n",
    "    size = max(1, size)\n",
    "    chunks = [full_list[0:i] for i in range(1, len(full_list) + 1, size)]\n",
    "    return chunks"
   ]
  },
  {
   "cell_type": "code",
   "execution_count": 38,
   "metadata": {},
   "outputs": [],
   "source": [
    "# get incrementally larger chunks of the time points, to reveal the attractor one frame at a time\n",
    "chunks = get_chunks(time_points, size=20)"
   ]
  },
  {
   "cell_type": "code",
   "execution_count": 39,
   "metadata": {},
   "outputs": [],
   "source": [
    "# get the points to plot, one chunk of time steps at a time, by integrating the system of equations\n",
    "points1 = [odeint(lorenz_system1, initial_state, chunk) for chunk in chunks]\n",
    "# plot each set of points, one at a time, saving each plot\n",
    "for n, point in enumerate(points1):\n",
    "    plot_lorenz(point, n, save_folder1)\n",
    "#----------------------------------------\n",
    "# get the points to plot, one chunk of time steps at a time, by integrating the system of equations\n",
    "points2 = [odeint(lorenz_system2, initial_state, chunk) for chunk in chunks]\n",
    "# plot each set of points, one at a time, saving each plot\n",
    "for n, point in enumerate(points2):\n",
    "    plot_lorenz(point, n, save_folder2)\n",
    "#----------------------------------------\n",
    "# get the points to plot, one chunk of time steps at a time, by integrating the system of equations\n",
    "points3 = [odeint(lorenz_system3, initial_state, chunk) for chunk in chunks]\n",
    "# plot each set of points, one at a time, saving each plot\n",
    "for n, point in enumerate(points3):\n",
    "    plot_lorenz(point, n, save_folder3)"
   ]
  },
  {
   "cell_type": "markdown",
   "metadata": {},
   "source": [
    "## Animate it\n",
    "Here we will create an animated gif of all the plots then display it inline!"
   ]
  },
  {
   "cell_type": "code",
   "execution_count": 41,
   "metadata": {},
   "outputs": [],
   "source": [
    "# create a tuple of display durations, one for each frame\n",
    "first_last = 100 #show the first and last frames for 100 ms\n",
    "standard_duration = 5 #show all other frames for 5 ms\n",
    "\n",
    "def durations(points): \n",
    "    return tuple([first_last] + [standard_duration] * (len(points) - 2) + [first_last])\n",
    "\n",
    "durations1 = durations(points1)\n",
    "durations2 = durations(points2)\n",
    "durations3 = durations(points3)"
   ]
  },
  {
   "cell_type": "code",
   "execution_count": 42,
   "metadata": {},
   "outputs": [],
   "source": [
    "# load all the static images into a list\n",
    "images1 = [Image.open(image) for image in glob.glob('1.{}/*.png'.format(save_folder1))]\n",
    "images2 = [Image.open(image) for image in glob.glob('2.{}/*.png'.format(save_folder2))]\n",
    "images3 = [Image.open(image) for image in glob.glob('3.{}/*.png'.format(save_folder3))]\n",
    "\n",
    "gif_filepath1 = 'images/animated-lorenz-attractor1.gif'\n",
    "gif_filepath2 = 'images/animated-lorenz-attractor2.gif'\n",
    "gif_filepath3 = 'images/animated-lorenz-attractor3.gif'"
   ]
  },
  {
   "cell_type": "code",
   "execution_count": null,
   "metadata": {},
   "outputs": [],
   "source": [
    "# save as an animated gif\n",
    "gif1 = images1[0]\n",
    "gif1.info['duration'] = durations1 #ms per frame\n",
    "gif1.info['loop'] = 0 #how many times to loop (0=infinite)\n",
    "gif1.save(fp=gif_filepath1, format='gif', save_all=True, append_images=images1[1:])\n",
    "#----------------------------------------\n",
    "# save as an animated gif\n",
    "gif2 = images2[0]\n",
    "gif2.info['duration'] = durations2 #ms per frame\n",
    "gif2.info['loop'] = 0 #how many times to loop (0=infinite)\n",
    "gif2.save(fp=gif_filepath2, format='gif', save_all=True, append_images=images2[1:])\n",
    "#----------------------------------------\n",
    "# save as an animated gif\n",
    "gif3 = images3[0]\n",
    "gif3.info['duration'] = durations3 #ms per frame\n",
    "gif3.info['loop'] = 0 #how many times to loop (0=infinite)\n",
    "gif3.save(fp=gif_filepath3, format='gif', save_all=True, append_images=images3[1:])"
   ]
  },
  {
   "cell_type": "code",
   "execution_count": null,
   "metadata": {},
   "outputs": [],
   "source": [
    "# verify that the number of frames in the gif equals the number of image files and durations\n",
    "Image.open(gif_filepath1).n_frames == len(images1) == len(durations1)\n",
    "Image.open(gif_filepath2).n_frames == len(images2) == len(durations2)\n",
    "Image.open(gif_filepath3).n_frames == len(images3) == len(durations3)"
   ]
  },
  {
   "cell_type": "code",
   "execution_count": null,
   "metadata": {},
   "outputs": [],
   "source": [
    "IPdisplay.Image(url=gif_filepath1)"
   ]
  },
  {
   "cell_type": "code",
   "execution_count": null,
   "metadata": {},
   "outputs": [],
   "source": [
    "IPdisplay.Image(url=gif_filepath2)"
   ]
  },
  {
   "cell_type": "code",
   "execution_count": null,
   "metadata": {},
   "outputs": [],
   "source": [
    "IPdisplay.Image(url=gif_filepath3)"
   ]
  }
 ],
 "metadata": {
  "kernelspec": {
   "display_name": "base",
   "language": "python",
   "name": "python3"
  },
  "language_info": {
   "codemirror_mode": {
    "name": "ipython",
    "version": 3
   },
   "file_extension": ".py",
   "mimetype": "text/x-python",
   "name": "python",
   "nbconvert_exporter": "python",
   "pygments_lexer": "ipython3",
   "version": "3.11.4"
  },
  "orig_nbformat": 4
 },
 "nbformat": 4,
 "nbformat_minor": 2
}
