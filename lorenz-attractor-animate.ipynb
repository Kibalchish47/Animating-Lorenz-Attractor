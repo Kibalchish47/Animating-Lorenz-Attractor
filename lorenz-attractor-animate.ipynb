{
 "cells": [
  {
   "cell_type": "markdown",
   "metadata": {},
   "source": [
    "# Animate the Lorenz Attractor"
   ]
  },
  {
   "cell_type": "code",
   "execution_count": 2,
   "metadata": {},
   "outputs": [],
   "source": [
    "%matplotlib inline\n",
    "import numpy as np, matplotlib.pyplot as plt, glob, os\n",
    "import IPython.display as IPdisplay, matplotlib.font_manager as fm\n",
    "from scipy.integrate import odeint\n",
    "from mpl_toolkits.mplot3d.axes3d import Axes3D\n",
    "from PIL import Image"
   ]
  },
  {
   "cell_type": "code",
   "execution_count": 3,
   "metadata": {},
   "outputs": [],
   "source": [
    "# define the fonts to use for plots\n",
    "title_font = fm.FontProperties(style='normal', size=20, weight='normal', stretch='normal')"
   ]
  },
  {
   "cell_type": "code",
   "execution_count": 4,
   "metadata": {},
   "outputs": [],
   "source": [
    "save_folder1 = 'images/lorenz-animate1'\n",
    "save_folder2 = 'images/lorenz-animate2'\n",
    "save_folder3 = 'images/lorenz-animate3'\n",
    "\n",
    "if not os.path.exists(save_folder1):\n",
    "    os.makedirs(save_folder1)\n",
    "if not os.path.exists(save_folder2):\n",
    "    os.makedirs(save_folder2)\n",
    "if not os.path.exists(save_folder3):\n",
    "    os.makedirs(save_folder3)"
   ]
  },
  {
   "cell_type": "code",
   "execution_count": 5,
   "metadata": {},
   "outputs": [],
   "source": [
    "# define the initial system state (aka x, y, z positions in space)\n",
    "initial_state = [0.1, 0, 0]\n",
    "\n",
    "# define the system parameters sigma, rho, and beta\n",
    "sigma1 = 10.\n",
    "rho1   = 28.\n",
    "beta1  = 8./3.\n",
    "\n",
    "# define the system parameters sigma, rho, and beta\n",
    "sigma2 = 5.\n",
    "rho2  = 14.\n",
    "beta2  = 4.\n",
    "\n",
    "# define the system parameters sigma, rho, and beta\n",
    "sigma3 = 20.\n",
    "rho3   = 56.\n",
    "beta3  = 16./6.\n",
    "\n",
    "# define the time points to solve for, evenly spaced between the start and end times\n",
    "start_time = 1\n",
    "end_time = 60\n",
    "interval = 100\n",
    "time_points = np.linspace(start_time, end_time, end_time * interval)"
   ]
  },
  {
   "cell_type": "markdown",
   "metadata": {},
   "source": [
    "The Lorenz System:\n",
    "$$\n",
    "\\frac{{dx}}{{dt}} = \\sigma(y - x) \\\\\n",
    "\\frac{{dy}}{{dt}} = x(\\rho - z) - y \\\\\n",
    "\\frac{{dz}}{{dt}} = xy - \\beta z \\\\\n",
    "$$\n",
    "\n",
    "where x is proportional to the rate of convection, y to the horizontal temperature variation, and z to the vertical temperature variation. The constants σ, ρ, and β are system parameters proportional to the Prandtl number, Rayleigh number, and certain physical dimensions of the layer itself."
   ]
  },
  {
   "cell_type": "code",
   "execution_count": 6,
   "metadata": {},
   "outputs": [],
   "source": [
    "# define the lorenz system\n",
    "def lorenz_system1(current_state, t):\n",
    "    x, y, z = current_state\n",
    "    dx_dt = sigma1 * (y - x)\n",
    "    dy_dt = x * (rho1 - z) - y\n",
    "    dz_dt = x * y - beta1 * z\n",
    "    return [dx_dt, dy_dt, dz_dt]\\\n",
    "\n",
    "# define the lorenz system\n",
    "def lorenz_system2(current_state, t):\n",
    "    x, y, z = current_state\n",
    "    dx_dt = sigma2 * (y - x)\n",
    "    dy_dt = x * (rho2 - z) - y\n",
    "    dz_dt = x * y - beta2 * z\n",
    "    return [dx_dt, dy_dt, dz_dt]\n",
    "\n",
    "# define the lorenz system\n",
    "def lorenz_system3(current_state, t):\n",
    "    x, y, z = current_state\n",
    "    dx_dt = sigma3 * (y - x)\n",
    "    dy_dt = x * (rho3 - z) - y\n",
    "    dz_dt = x * y - beta3 * z\n",
    "    return [dx_dt, dy_dt, dz_dt]"
   ]
  },
  {
   "cell_type": "code",
   "execution_count": 7,
   "metadata": {},
   "outputs": [],
   "source": [
    "# plot the system in 3 dimensions\n",
    "def plot_lorenz1(xyz1, n, save_folder, number=1):\n",
    "    fig1 = plt.figure(figsize=(12, 9))\n",
    "    ax1 = fig1.add_subplot(projection = '3d')\n",
    "    \n",
    "    ax1.xaxis.set_pane_color((1, 1, 1, 1))\n",
    "    ax1.yaxis.set_pane_color((1, 1, 1, 1))\n",
    "    ax1.zaxis.set_pane_color((1, 1, 1, 1))\n",
    "    \n",
    "    x1 = xyz1[:, 0]\n",
    "    y1 = xyz1[:, 1]\n",
    "    z1 = xyz1[:, 2]\n",
    "    \n",
    "    ax1.plot(x1, y1, z1, color='g', alpha=0.7, linewidth=0.7)\n",
    "    ax1.set_xlim((-30, 30))\n",
    "    ax1.set_ylim((-30, 30))\n",
    "    ax1.set_zlim((0, 50))\n",
    "    ax1.set_title(f'Lorenz system attractor {number}', fontproperties=title_font)\n",
    "    \n",
    "    ## save png of the plot\n",
    "    plt.savefig('{}/{:03d}1.png'.format(save_folder, n), dpi=60, bbox_inches='tight', pad_inches=0.1)\n",
    "    plt.close()\n",
    "    \n",
    "# plot the system in 3 dimensions\n",
    "def plot_lorenz2(xyz2, n, save_folder, number=2):\n",
    "    fig2 = plt.figure(figsize=(12, 9))\n",
    "    ax2 = fig2.add_subplot(projection = '3d')\n",
    "    \n",
    "    ax2.xaxis.set_pane_color((1, 1, 1, 1))\n",
    "    ax2.yaxis.set_pane_color((1, 1, 1, 1))\n",
    "    ax2.zaxis.set_pane_color((1, 1, 1, 1))\n",
    "    \n",
    "    x2 = xyz2[:, 0]\n",
    "    y2 = xyz2[:, 1]\n",
    "    z2 = xyz2[:, 2]\n",
    "    \n",
    "    ax2.plot(x2, y2, z2, color='g', alpha=0.7, linewidth=0.7)\n",
    "    ax2.set_xlim((-30, 30))\n",
    "    ax2.set_ylim((-30, 30))\n",
    "    ax2.set_zlim((0, 50))\n",
    "    ax2.set_title(f'Lorenz system attractor {number}', fontproperties=title_font)\n",
    "    \n",
    "    ## save png of the plot\n",
    "    plt.savefig('{}/{:03d}2.png'.format(save_folder, n), dpi=60, bbox_inches='tight', pad_inches=0.1)\n",
    "    plt.close()\n",
    "\n",
    "# plot the system in 3 dimensions\n",
    "def plot_lorenz3(xyz3, n, save_folder, number=3):\n",
    "    fig3 = plt.figure(figsize=(12, 9))\n",
    "    ax3 = fig3.add_subplot(projection = '3d')\n",
    "    \n",
    "    ax3.xaxis.set_pane_color((1, 1, 1, 1))\n",
    "    ax3.yaxis.set_pane_color((1, 1, 1, 1))\n",
    "    ax3.zaxis.set_pane_color((1, 1, 1, 1))\n",
    "    \n",
    "    x3 = xyz3[:, 0]\n",
    "    y3 = xyz3[:, 1]\n",
    "    z3 = xyz3[:, 2]\n",
    "    \n",
    "    ax3.plot(x3, y3, z3, color='g', alpha=0.7, linewidth=0.7)\n",
    "    ax3.set_xlim((-30, 30))\n",
    "    ax3.set_ylim((-30, 30))\n",
    "    ax3.set_zlim((0, 50))\n",
    "    ax3.set_title(f'Lorenz system attractor {number}', fontproperties=title_font)\n",
    "    \n",
    "    ## save png of the plot\n",
    "    plt.savefig('{}/{:03d}3.png'.format(save_folder, n), dpi=60, bbox_inches='tight', pad_inches=0.1)\n",
    "    plt.close()"
   ]
  },
  {
   "cell_type": "code",
   "execution_count": 8,
   "metadata": {},
   "outputs": [],
   "source": [
    "# return a list in iteratively larger chunks\n",
    "def get_chunks(full_list, size):\n",
    "    size = max(1, size)\n",
    "    chunks = [full_list[0:i] for i in range(1, len(full_list) + 1, size)]\n",
    "    return chunks"
   ]
  },
  {
   "cell_type": "code",
   "execution_count": 9,
   "metadata": {},
   "outputs": [],
   "source": [
    "# get incrementally larger chunks of the time points, to reveal the attractor one frame at a time\n",
    "chunks = get_chunks(time_points, size=20)"
   ]
  },
  {
   "cell_type": "code",
   "execution_count": 10,
   "metadata": {},
   "outputs": [],
   "source": [
    "# get the points to plot, one chunk of time steps at a time, by integrating the system of equations\n",
    "points1 = [odeint(lorenz_system1, initial_state, chunk) for chunk in chunks]\n",
    "# plot each set of points, one at a time, saving each plot\n",
    "for n, point in enumerate(points1):\n",
    "    plot_lorenz1(point, n, save_folder1)\n",
    "#----------------------------------------\n",
    "# get the points to plot, one chunk of time steps at a time, by integrating the system of equations\n",
    "points2 = [odeint(lorenz_system2, initial_state, chunk) for chunk in chunks]\n",
    "# plot each set of points, one at a time, saving each plot\n",
    "for n, point in enumerate(points2):\n",
    "    plot_lorenz2(point, n, save_folder2)\n",
    "#----------------------------------------\n",
    "# get the points to plot, one chunk of time steps at a time, by integrating the system of equations\n",
    "points3 = [odeint(lorenz_system3, initial_state, chunk) for chunk in chunks]\n",
    "# plot each set of points, one at a time, saving each plot\n",
    "for n, point in enumerate(points3):\n",
    "    plot_lorenz3(point, n, save_folder3)"
   ]
  },
  {
   "cell_type": "markdown",
   "metadata": {},
   "source": [
    "## Animate it\n",
    "Here we will create an animated gif of all the plots then display it inline!"
   ]
  },
  {
   "cell_type": "code",
   "execution_count": 11,
   "metadata": {},
   "outputs": [],
   "source": [
    "# Create a GIF from the generated plots\n",
    "def create_gif(save_folder, gif_path):\n",
    "    images = []\n",
    "    filenames = sorted(os.listdir(save_folder))\n",
    "    for filename in filenames:\n",
    "        filepath = os.path.join(save_folder, filename)\n",
    "        images.append(Image.open(filepath))\n",
    "    images[0].save(gif_path, format='GIF', append_images=images[1:], save_all=True, duration=200, loop=0)\n",
    "\n",
    "gif_path1 = 'attractor1.gif'\n",
    "gif_path2 = 'attractor2.gif'\n",
    "gif_path3 = 'attractor3.gif'\n",
    "\n",
    "create_gif(save_folder1, gif_path1)\n",
    "create_gif(save_folder2, gif_path2)\n",
    "create_gif(save_folder3, gif_path3)"
   ]
  }
 ],
 "metadata": {
  "kernelspec": {
   "display_name": "base",
   "language": "python",
   "name": "python3"
  },
  "language_info": {
   "codemirror_mode": {
    "name": "ipython",
    "version": 3
   },
   "file_extension": ".py",
   "mimetype": "text/x-python",
   "name": "python",
   "nbconvert_exporter": "python",
   "pygments_lexer": "ipython3",
   "version": "3.11.4"
  },
  "orig_nbformat": 4
 },
 "nbformat": 4,
 "nbformat_minor": 2
}
