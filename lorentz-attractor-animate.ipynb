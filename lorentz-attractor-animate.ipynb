{
 "cells": [
  {
   "cell_type": "code",
   "execution_count": null,
   "metadata": {},
   "outputs": [],
   "source": [
    "%matplotlib inline\n",
    "import numpy as np, matplotlib.pyplot as plt, glob, os\n",
    "import IPython.display as IPdisplay, matplotlib.font_manager as fm\n",
    "from scipy.integrate import odeint\n",
    "from mpl_toolkits.mplot3d.axes3d import Axes3D\n",
    "from PIL import Image"
   ]
  },
  {
   "cell_type": "code",
   "execution_count": null,
   "metadata": {},
   "outputs": [],
   "source": [
    "# define the fonts to use for plots\n",
    "family = 'Myriad Pro'\n",
    "title_font = fm.FontProperties(family=family, style='normal', size=20, weight='normal', stretch='normal')"
   ]
  },
  {
   "cell_type": "code",
   "execution_count": null,
   "metadata": {},
   "outputs": [],
   "source": [
    "save_folder = 'images/lorenz-animate'\n",
    "if not os.path.exists(save_folder):\n",
    "    os.makedirs(save_folder)"
   ]
  },
  {
   "cell_type": "code",
   "execution_count": null,
   "metadata": {},
   "outputs": [],
   "source": [
    "# define the initial system state (aka x, y, z positions in space)\n",
    "initial_state = [0.1, 0, 0]\n",
    "\n",
    "# define the system parameters sigma, rho, and beta\n",
    "sigma = 10.\n",
    "rho   = 28.\n",
    "beta  = 8./3.\n",
    "\n",
    "# define the time points to solve for, evenly spaced between the start and end times\n",
    "start_time = 1\n",
    "end_time = 60\n",
    "interval = 100\n",
    "time_points = np.linspace(start_time, end_time, end_time * interval)"
   ]
  }
 ],
 "metadata": {
  "language_info": {
   "name": "python"
  },
  "orig_nbformat": 4
 },
 "nbformat": 4,
 "nbformat_minor": 2
}
