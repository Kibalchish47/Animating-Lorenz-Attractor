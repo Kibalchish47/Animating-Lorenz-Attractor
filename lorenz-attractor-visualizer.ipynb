{
 "cells": [
  {
   "cell_type": "code",
   "execution_count": null,
   "metadata": {},
   "outputs": [],
   "source": [
    "%matplotlib inline\n",
    "import numpy as np, matplotlib.pyplot as plt, matplotlib.font_manager as fm, os\n",
    "from scipy.integrate import odeint\n",
    "from mpl_toolkits.mplot3d.axes3d import Axes3D"
   ]
  },
  {
   "cell_type": "code",
   "execution_count": null,
   "metadata": {},
   "outputs": [],
   "source": [
    "font_family = 'Myriad Pro'\n",
    "title_font = fm.FontProperties(family=font_family, style='normal', size=20, weight='normal', stretch='normal')"
   ]
  }
 ],
 "metadata": {
  "language_info": {
   "name": "python"
  },
  "orig_nbformat": 4
 },
 "nbformat": 4,
 "nbformat_minor": 2
}
