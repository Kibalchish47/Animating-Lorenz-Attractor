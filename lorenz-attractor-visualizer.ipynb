{
 "cells": [
  {
   "cell_type": "code",
   "execution_count": 1,
   "metadata": {},
   "outputs": [],
   "source": [
    "%matplotlib inline\n",
    "import numpy as np, matplotlib.pyplot as plt, matplotlib.font_manager as fm\n",
    "import os as os\n",
    "from scipy.integrate import odeint\n",
    "from mpl_toolkits.mplot3d.axes3d import Axes3D"
   ]
  },
  {
   "cell_type": "code",
   "execution_count": 19,
   "metadata": {},
   "outputs": [],
   "source": [
    "title_font = fm.FontProperties(style='normal', size=20, weight='normal', stretch='normal')"
   ]
  },
  {
   "cell_type": "code",
   "execution_count": 10,
   "metadata": {},
   "outputs": [],
   "source": [
    "save_folder1 = 'images/lorenz-animate1'\n",
    "save_folder2 = 'images/lorenz-animate2'\n",
    "save_folder3 = 'images/lorenz-animate3'\n",
    "\n",
    "if not os.path.exists(save_folder1, save_folder2, save_folder3):\n",
    "    os.makedirs(save_folder1)\n",
    "    os.makedirs(save_folder2)\n",
    "    os.makedirs(save_folder3)"
   ]
  },
  {
   "cell_type": "code",
   "execution_count": 2,
   "metadata": {},
   "outputs": [],
   "source": [
    "# define the initial system state (aka x, y, z positions in space)\n",
    "initial_state = [0.1, 0, 0]\n",
    "\n",
    "# define the system parameters sigma, rho, and beta\n",
    "sigma1 = 10.\n",
    "rho1   = 28.\n",
    "beta1  = 8./3.\n",
    "\n",
    "# define the system parameters sigma, rho, and beta\n",
    "sigma2 = 5.\n",
    "rho2  = 14.\n",
    "beta2  = 4.\n",
    "\n",
    "# define the system parameters sigma, rho, and beta\n",
    "sigma3 = 20.\n",
    "rho3   = 56.\n",
    "beta3  = 16./6.\n",
    "\n",
    "# define the time points to solve for, evenly spaced between the start and end times\n",
    "start_time = 0\n",
    "end_time = 100\n",
    "time_points = np.linspace(start_time, end_time, end_time*100)"
   ]
  },
  {
   "cell_type": "code",
   "execution_count": 3,
   "metadata": {},
   "outputs": [],
   "source": [
    "# define the lorenz system\n",
    "# x, y, and z make up the system state, t is time, and sigma, rho, beta are the system parameters\n",
    "def lorenz_system1(current_state, t):\n",
    "    x, y, z = current_state\n",
    "    dx_dt = sigma1 * (y - x)\n",
    "    dy_dt = x * (rho1 - z) - y\n",
    "    dz_dt = x * y - beta1 * z\n",
    "    return [dx_dt, dy_dt, dz_dt]\\\n",
    "\n",
    "# define the lorenz system\n",
    "def lorenz_system2(current_state, t):\n",
    "    x, y, z = current_state\n",
    "    dx_dt = sigma2 * (y - x)\n",
    "    dy_dt = x * (rho2 - z) - y\n",
    "    dz_dt = x * y - beta2 * z\n",
    "    return [dx_dt, dy_dt, dz_dt]\n",
    "\n",
    "# define the lorenz system\n",
    "def lorenz_system3(current_state, t):\n",
    "    x, y, z = current_state\n",
    "    dx_dt = sigma3 * (y - x)\n",
    "    dy_dt = x * (rho3 - z) - y\n",
    "    dz_dt = x * y - beta3 * z\n",
    "    return [dx_dt, dy_dt, dz_dt]"
   ]
  },
  {
   "cell_type": "code",
   "execution_count": 13,
   "metadata": {},
   "outputs": [],
   "source": [
    "# use odeint() to solve a system of ordinary differential equations\n",
    "# the arguments are: \n",
    "# 1, a function - computes the derivatives\n",
    "# 2, a vector of initial system conditions (aka x, y, z positions in space)\n",
    "# 3, a sequence of time points to solve for\n",
    "# returns an array of x, y, and z value arrays for each time point, with the initial values in the first row\n",
    "xyz1 = odeint(lorenz_system1, initial_state, time_points)\n",
    "xyz2 = odeint(lorenz_system2, initial_state, time_points)\n",
    "xyz3 = odeint(lorenz_system3, initial_state, time_points)\n",
    "# extract the individual arrays of x, y, and z values from the array of arrays\n",
    "x1 = xyz1[:, 0]\n",
    "y1 = xyz1[:, 1]\n",
    "z1 = xyz1[:, 2]\n",
    "\n",
    "x1 = xyz2[:, 0]\n",
    "y1 = xyz2[:, 1]\n",
    "z1 = xyz2[:, 2]\n",
    "\n",
    "x1 = xyz3[:, 0]\n",
    "y1 = xyz3[:, 1]\n",
    "z1 = xyz3[:, 2]"
   ]
  },
  {
   "cell_type": "markdown",
   "metadata": {},
   "source": [
    "## Lorenz System 1"
   ]
  },
  {
   "cell_type": "code",
   "execution_count": null,
   "metadata": {},
   "outputs": [],
   "source": [
    "# plot the lorenz attractor in three-dimensional phase space\n",
    "fig1 = plt.figure(figsize=(11.5, 8.5))\n",
    "ax1 = fig1.add_subplot(projection = '3d')\n",
    "ax1.xaxis.set_pane_color((1,1,1,1))\n",
    "ax1.yaxis.set_pane_color((1,1,1,1))\n",
    "ax1.zaxis.set_pane_color((1,1,1,1))\n",
    "ax1.plot(x1, y1, z1, color='g', alpha=0.7, linewidth=0.6)\n",
    "ax1.set_title('Lorenz attractor phase diagram 1', fontproperties=title_font)\n",
    "\n",
    "fig1.savefig('{}/lorenz-attractor-3d-1.png'.format(save_folder), dpi=180, bbox_inches='tight')\n",
    "plt.show()"
   ]
  },
  {
   "cell_type": "code",
   "execution_count": null,
   "metadata": {},
   "outputs": [],
   "source": [
    "# now plot two-dimensional cuts of the three-dimensional phase space\n",
    "fig1, ax1 = plt.subplots(1, 3, sharex=False, sharey=False, figsize=(17, 6))\n",
    "\n",
    "# plot the x values vs the y values\n",
    "ax1[0].plot(x1, y1, color='r', alpha=0.7, linewidth=0.3)\n",
    "ax1[0].set_title('x-y phase plane', fontproperties=title_font)\n",
    "\n",
    "# plot the x values vs the z values\n",
    "ax1[1].plot(x1, z1, color='m', alpha=0.7, linewidth=0.3)\n",
    "ax1[1].set_title('x-z phase plane', fontproperties=title_font)\n",
    "\n",
    "# plot the y values vs the z values\n",
    "ax1[2].plot(y1, z1, color='b', alpha=0.7, linewidth=0.3)\n",
    "ax1[2].set_title('y-z phase plane', fontproperties=title_font)\n",
    "\n",
    "fig1.savefig('{}/lorenz-attractor-phase-plane.png'.format(save_folder), dpi=180, bbox_inches='tight')\n",
    "plt.show()"
   ]
  },
  {
   "cell_type": "markdown",
   "metadata": {},
   "source": [
    "## Lorenz System 2"
   ]
  },
  {
   "cell_type": "code",
   "execution_count": null,
   "metadata": {},
   "outputs": [],
   "source": [
    "# plot the lorenz attractor in three-dimensional phase space\n",
    "fig2 = plt.figure(figsize=(11.5, 8.5))\n",
    "ax2 = fig2.add_subplot(projection = '3d')\n",
    "ax2.xaxis.set_pane_color((1,1,1,1))\n",
    "ax2.yaxis.set_pane_color((1,1,1,1))\n",
    "ax2.zaxis.set_pane_color((1,1,1,1))\n",
    "ax2.plot(x2, y2, z2, color='g', alpha=0.7, linewidth=0.6)\n",
    "ax2.set_title('Lorenz attractor phase diagram 2', fontproperties=title_font)\n",
    "\n",
    "fig2.savefig('{}/lorenz-attractor-3d-2.png'.format(save_folder), dpi=180, bbox_inches='tight')\n",
    "plt.show()"
   ]
  },
  {
   "cell_type": "code",
   "execution_count": null,
   "metadata": {},
   "outputs": [],
   "source": [
    "# now plot two-dimensional cuts of the three-dimensional phase space\n",
    "fig2, ax2 = plt.subplots(1, 3, sharex=False, sharey=False, figsize=(17, 6))\n",
    "\n",
    "# plot the x values vs the y values\n",
    "ax2[0].plot(x2, y2, color='r', alpha=0.7, linewidth=0.3)\n",
    "ax2[0].set_title('x-y phase plane', fontproperties=title_font)\n",
    "\n",
    "# plot the x values vs the z values\n",
    "ax2[1].plot(x2, z2, color='m', alpha=0.7, linewidth=0.3)\n",
    "ax2[1].set_title('x-z phase plane', fontproperties=title_font)\n",
    "\n",
    "# plot the y values vs the z values\n",
    "ax2[2].plot(y2, z2, color='b', alpha=0.7, linewidth=0.3)\n",
    "ax2[2].set_title('y-z phase plane', fontproperties=title_font)\n",
    "\n",
    "fig2.savefig('{}/lorenz-attractor-phase-plane.png'.format(save_folder), dpi=180, bbox_inches='tight')\n",
    "plt.show()"
   ]
  },
  {
   "cell_type": "markdown",
   "metadata": {},
   "source": [
    "## Lorenz System 3"
   ]
  },
  {
   "cell_type": "code",
   "execution_count": null,
   "metadata": {},
   "outputs": [],
   "source": [
    "# plot the lorenz attractor in three-dimensional phase space\n",
    "fig3 = plt.figure(figsize=(11.5, 8.5))\n",
    "ax3 = fig3.add_subplot(projection = '3d')\n",
    "ax3.xaxis.set_pane_color((1,1,1,1))\n",
    "ax3.yaxis.set_pane_color((1,1,1,1))\n",
    "ax3.zaxis.set_pane_color((1,1,1,1))\n",
    "ax3.plot(x3, y3, z3, color='g', alpha=0.7, linewidth=0.6)\n",
    "ax3.set_title('Lorenz attractor phase diagram 3', fontproperties=title_font)\n",
    "\n",
    "fig3.savefig('{}/lorenz-attractor-3d-3.png'.format(save_folder), dpi=180, bbox_inches='tight')\n",
    "plt.show()"
   ]
  },
  {
   "cell_type": "code",
   "execution_count": null,
   "metadata": {},
   "outputs": [],
   "source": [
    "# now plot two-dimensional cuts of the three-dimensional phase space\n",
    "fig, ax = plt.subplots(1, 3, sharex=False, sharey=False, figsize=(17, 6))\n",
    "\n",
    "# plot the x values vs the y values\n",
    "ax[0].plot(x, y, color='r', alpha=0.7, linewidth=0.3)\n",
    "ax[0].set_title('x-y phase plane', fontproperties=title_font)\n",
    "\n",
    "# plot the x values vs the z values\n",
    "ax[1].plot(x, z, color='m', alpha=0.7, linewidth=0.3)\n",
    "ax[1].set_title('x-z phase plane', fontproperties=title_font)\n",
    "\n",
    "# plot the y values vs the z values\n",
    "ax[2].plot(y, z, color='b', alpha=0.7, linewidth=0.3)\n",
    "ax[2].set_title('y-z phase plane', fontproperties=title_font)\n",
    "\n",
    "fig.savefig('{}/lorenz-attractor-phase-plane.png'.format(save_folder), dpi=180, bbox_inches='tight')\n",
    "plt.show()"
   ]
  }
 ],
 "metadata": {
  "kernelspec": {
   "display_name": "base",
   "language": "python",
   "name": "python3"
  },
  "language_info": {
   "codemirror_mode": {
    "name": "ipython",
    "version": 3
   },
   "file_extension": ".py",
   "mimetype": "text/x-python",
   "name": "python",
   "nbconvert_exporter": "python",
   "pygments_lexer": "ipython3",
   "version": "3.11.4"
  },
  "orig_nbformat": 4
 },
 "nbformat": 4,
 "nbformat_minor": 2
}
