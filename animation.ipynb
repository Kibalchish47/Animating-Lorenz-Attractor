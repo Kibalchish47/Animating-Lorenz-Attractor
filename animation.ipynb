{
 "cells": [
  {
   "cell_type": "code",
   "execution_count": null,
   "metadata": {},
   "outputs": [],
   "source": [
    "import os\n",
    "import numpy as np\n",
    "import matplotlib.pyplot as plt\n",
    "from mpl_toolkits.mplot3d import Axes3D\n",
    "from scipy.integrate import odeint\n",
    "from PIL import Image"
   ]
  },
  {
   "cell_type": "code",
   "execution_count": null,
   "metadata": {},
   "outputs": [],
   "source": [
    "# Create a folder to store the images\n",
    "os.makedirs(\"results\", exist_ok=True)\n",
    "\n",
    "# Define the initial system state (x, y, z positions in space)\n",
    "initial_state = [0.1, 0, 0]\n",
    "\n",
    "# Define the system parameters sigma, rho, and beta\n",
    "sigma = 10.\n",
    "rho = 28.\n",
    "beta = 8. / 3.\n",
    "\n",
    "# Define the time points to solve for, evenly spaced between the start and end times\n",
    "start_time = 1\n",
    "end_time = 60\n",
    "interval = 100\n",
    "time_points = np.linspace(start_time, end_time, end_time * interval)\n",
    "\n",
    "# Define the Lorenz system\n",
    "def lorenz_system(current_state, t):\n",
    "    x, y, z = current_state\n",
    "    dx_dt = sigma * (y - x)\n",
    "    dy_dt = x * (rho - z) - y\n",
    "    dz_dt = x * y - beta * z\n",
    "    return [dx_dt, dy_dt, dz_dt]\n",
    "\n",
    "# Solve the Lorenz system using odeint\n",
    "solution = odeint(lorenz_system, initial_state, time_points)\n",
    "\n",
    "# Extract the x, y, and z coordinates from the solution\n",
    "x = solution[:, 0]\n",
    "y = solution[:, 1]\n",
    "z = solution[:, 2]\n",
    "\n",
    "# Generate a GIF from the saved frames\n",
    "frames = []\n",
    "for i in range(len(time_points)):\n",
    "    filename = f\"results/lorenz-animate1_{i:03d}.png\"\n",
    "    frame = Image.open(filename)\n",
    "    frames.append(frame)\n",
    "\n",
    "# Save the frames as a GIF file\n",
    "frames[0].save('results/lorenz-animate1.gif', save_all=True, append_images=frames[1:], optimize=False, duration=50, loop=0)\n",
    "\n",
    "# Show the plot\n",
    "plt.show()"
   ]
  }
 ],
 "metadata": {
  "kernelspec": {
   "display_name": "Python 3",
   "language": "python",
   "name": "python3"
  },
  "language_info": {
   "name": "python",
   "version": "3.11.4"
  }
 },
 "nbformat": 4,
 "nbformat_minor": 2
}
